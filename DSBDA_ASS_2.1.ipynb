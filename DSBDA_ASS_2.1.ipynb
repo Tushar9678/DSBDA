{
 "cells": [
  {
   "cell_type": "code",
   "execution_count": 1,
   "id": "1c7ec8d9-5eb8-429d-b2e2-9edc8ce6f340",
   "metadata": {},
   "outputs": [],
   "source": [
    "import pandas as pd\n",
    "import numpy as np"
   ]
  },
  {
   "cell_type": "code",
   "execution_count": 2,
   "id": "bb8c0047-085c-4a5b-9bc6-17a682841ca9",
   "metadata": {},
   "outputs": [],
   "source": [
    "# Create a dictionary with sample data\n",
    "data = {\n",
    "    'Student_ID': [1, 2, 3, 4, 5],\n",
    "    'Age': [20, 22, 21, np.nan, 19],  # Adding missing value\n",
    "    'Math_Score': [85, 78, 90, 95, 60],\n",
    "    'Physics_Score': [70, 85, 88, 92, 75],\n",
    "    'English_Score': [80, 75, 88, 90, 65],\n",
    "}"
   ]
  },
  {
   "cell_type": "code",
   "execution_count": 3,
   "id": "1b3efaa9-5239-4c8d-8807-b16788e9c4be",
   "metadata": {},
   "outputs": [
    {
     "name": "stdout",
     "output_type": "stream",
     "text": [
      "   Student_ID   Age  Math_Score  Physics_Score  English_Score\n",
      "0           1  20.0          85             70             80\n",
      "1           2  22.0          78             85             75\n",
      "2           3  21.0          90             88             88\n",
      "3           4   NaN          95             92             90\n",
      "4           5  19.0          60             75             65\n"
     ]
    }
   ],
   "source": [
    "# Create a DataFrame\n",
    "df = pd.DataFrame(data)\n",
    "print(df)"
   ]
  },
  {
   "cell_type": "code",
   "execution_count": 4,
   "id": "5431e7c2-ca0e-4b3a-8145-4173857344f4",
   "metadata": {},
   "outputs": [
    {
     "name": "stdout",
     "output_type": "stream",
     "text": [
      "Student_ID       0\n",
      "Age              1\n",
      "Math_Score       0\n",
      "Physics_Score    0\n",
      "English_Score    0\n",
      "dtype: int64\n"
     ]
    }
   ],
   "source": [
    "# Check for missing values\n",
    "print(df.isnull().sum())"
   ]
  },
  {
   "cell_type": "code",
   "execution_count": 5,
   "id": "2ae06221-ce5f-4bb8-b1b2-324b142b1e27",
   "metadata": {},
   "outputs": [
    {
     "name": "stdout",
     "output_type": "stream",
     "text": [
      "   Student_ID   Age  Math_Score  Physics_Score  English_Score\n",
      "0           1  20.0          85             70             80\n",
      "1           2  22.0          78             85             75\n",
      "2           3  21.0          90             88             88\n",
      "3           4  20.5          95             92             90\n",
      "4           5  19.0          60             75             65\n"
     ]
    }
   ],
   "source": [
    "# Fill missing values with mean\n",
    "df['Age'].fillna(df['Age'].mean(), inplace=True)\n",
    "print(df)"
   ]
  },
  {
   "cell_type": "code",
   "execution_count": 6,
   "id": "35aca037-df93-441e-81d8-496e10ce5da8",
   "metadata": {},
   "outputs": [],
   "source": [
    "# Identify outliers using Z-score\n",
    "from scipy import stats"
   ]
  },
  {
   "cell_type": "code",
   "execution_count": 7,
   "id": "7d051623-10cb-4b90-bd40-61cc57a71546",
   "metadata": {},
   "outputs": [
    {
     "name": "stdout",
     "output_type": "stream",
     "text": [
      "Empty DataFrame\n",
      "Columns: [Student_ID, Age, Math_Score, Physics_Score, English_Score]\n",
      "Index: []\n"
     ]
    }
   ],
   "source": [
    "z_scores = np.abs(stats.zscore(df[['Math_Score', 'Physics_Score', 'English_Score']]))\n",
    "threshold = 3\n",
    "outliers = (z_scores > threshold).any(axis=1)\n",
    "print(df[outliers])\n",
    "\n"
   ]
  },
  {
   "cell_type": "code",
   "execution_count": 8,
   "id": "c3648b5d-397f-4e98-ab18-66527ae6945e",
   "metadata": {},
   "outputs": [
    {
     "name": "stdout",
     "output_type": "stream",
     "text": [
      "   Student_ID   Age  Math_Score  Physics_Score  English_Score\n",
      "0           1  20.0          85             70             80\n",
      "1           2  22.0          78             85             75\n",
      "2           3  21.0          90             88             88\n",
      "3           4  20.5          95             92             90\n",
      "4           5  19.0          60             75             65\n"
     ]
    }
   ],
   "source": [
    "# Remove outliers\n",
    "df = df[~outliers]\n",
    "print(df)"
   ]
  },
  {
   "cell_type": "code",
   "execution_count": 9,
   "id": "3bf4a236-e76c-4634-9766-78b036b2ce38",
   "metadata": {},
   "outputs": [
    {
     "name": "stdout",
     "output_type": "stream",
     "text": [
      "   Student_ID   Age  Math_Score  Physics_Score  English_Score  \\\n",
      "0           1  20.0          85             70             80   \n",
      "1           2  22.0          78             85             75   \n",
      "2           3  21.0          90             88             88   \n",
      "3           4  20.5          95             92             90   \n",
      "4           5  19.0          60             75             65   \n",
      "\n",
      "   Math_Score_Transformed  \n",
      "0                9.219544  \n",
      "1                8.831761  \n",
      "2                9.486833  \n",
      "3                9.746794  \n",
      "4                7.745967  \n"
     ]
    }
   ],
   "source": [
    "# Apply square root transformation\n",
    "df['Math_Score_Transformed'] = np.sqrt(df['Math_Score'])\n",
    "print(df)"
   ]
  },
  {
   "cell_type": "code",
   "execution_count": null,
   "id": "9b7fb349-50a6-4ece-9749-362660a1562a",
   "metadata": {},
   "outputs": [],
   "source": []
  }
 ],
 "metadata": {
  "kernelspec": {
   "display_name": "Python 3 (ipykernel)",
   "language": "python",
   "name": "python3"
  },
  "language_info": {
   "codemirror_mode": {
    "name": "ipython",
    "version": 3
   },
   "file_extension": ".py",
   "mimetype": "text/x-python",
   "name": "python",
   "nbconvert_exporter": "python",
   "pygments_lexer": "ipython3",
   "version": "3.11.7"
  }
 },
 "nbformat": 4,
 "nbformat_minor": 5
}
